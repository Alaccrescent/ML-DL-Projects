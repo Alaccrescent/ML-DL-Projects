{
 "cells": [
  {
   "cell_type": "code",
   "execution_count": 1,
   "id": "ae79c17f",
   "metadata": {},
   "outputs": [],
   "source": [
    "import pandas as pd\n",
    "import numpy as np\n",
    "import matplotlib.pyplot as plt\n",
    "import seaborn as sns\n",
    "\n",
    "import warnings\n",
    "warnings.filterwarnings(\"ignore\")\n",
    "\n",
    "import re\n",
    "\n",
    "import plotly as py \n",
    "import plotly.graph_objs as go \n",
    "from plotly.offline import download_plotlyjs, init_notebook_mode, iplot, plot \n",
    "\n",
    "import datetime, time"
   ]
  },
  {
   "cell_type": "code",
   "execution_count": 2,
   "id": "39c62e74",
   "metadata": {},
   "outputs": [],
   "source": [
    "data=pd.read_csv(r\"basic_screened_data.csv\")"
   ]
  },
  {
   "cell_type": "code",
   "execution_count": 3,
   "id": "d6bd13dc",
   "metadata": {},
   "outputs": [
    {
     "data": {
      "text/plain": [
       "Index(['Unnamed: 0', 'id', 'member_id', 'loan_amnt', 'funded_amnt',\n",
       "       'funded_amnt_inv', 'term', 'int_rate', 'installment', 'grade',\n",
       "       'sub_grade', 'emp_length', 'home_ownership', 'annual_inc',\n",
       "       'verification_status', 'issue_d', 'pymnt_plan', 'purpose', 'zip_code',\n",
       "       'addr_state', 'dti', 'delinq_2yrs', 'earliest_cr_line',\n",
       "       'inq_last_6mths', 'open_acc', 'pub_rec', 'revol_bal', 'revol_util',\n",
       "       'total_acc', 'initial_list_status', 'out_prncp', 'out_prncp_inv',\n",
       "       'total_pymnt', 'total_pymnt_inv', 'total_rec_prncp', 'total_rec_int',\n",
       "       'total_rec_late_fee', 'recoveries', 'collection_recovery_fee',\n",
       "       'last_pymnt_d', 'last_pymnt_amnt', 'last_credit_pull_d',\n",
       "       'collections_12_mths_ex_med', 'application_type', 'acc_now_delinq',\n",
       "       'tot_coll_amt', 'tot_cur_bal', 'total_rev_hi_lim', 'default_ind'],\n",
       "      dtype='object')"
      ]
     },
     "execution_count": 3,
     "metadata": {},
     "output_type": "execute_result"
    }
   ],
   "source": [
    "data.columns"
   ]
  },
  {
   "cell_type": "code",
   "execution_count": 4,
   "id": "ae7f62e1",
   "metadata": {},
   "outputs": [],
   "source": [
    "cols=list(data.columns)\n",
    "cols[0]=\"temp\"\n",
    "data.columns=cols\n",
    "data.drop([\"temp\"],axis=1,inplace=True)"
   ]
  },
  {
   "cell_type": "code",
   "execution_count": 5,
   "id": "a86650a4",
   "metadata": {},
   "outputs": [
    {
     "data": {
      "text/html": [
       "<div>\n",
       "<style scoped>\n",
       "    .dataframe tbody tr th:only-of-type {\n",
       "        vertical-align: middle;\n",
       "    }\n",
       "\n",
       "    .dataframe tbody tr th {\n",
       "        vertical-align: top;\n",
       "    }\n",
       "\n",
       "    .dataframe thead th {\n",
       "        text-align: right;\n",
       "    }\n",
       "</style>\n",
       "<table border=\"1\" class=\"dataframe\">\n",
       "  <thead>\n",
       "    <tr style=\"text-align: right;\">\n",
       "      <th></th>\n",
       "      <th>id</th>\n",
       "      <th>member_id</th>\n",
       "      <th>loan_amnt</th>\n",
       "      <th>funded_amnt</th>\n",
       "      <th>funded_amnt_inv</th>\n",
       "      <th>term</th>\n",
       "      <th>int_rate</th>\n",
       "      <th>installment</th>\n",
       "      <th>grade</th>\n",
       "      <th>sub_grade</th>\n",
       "      <th>...</th>\n",
       "      <th>last_pymnt_d</th>\n",
       "      <th>last_pymnt_amnt</th>\n",
       "      <th>last_credit_pull_d</th>\n",
       "      <th>collections_12_mths_ex_med</th>\n",
       "      <th>application_type</th>\n",
       "      <th>acc_now_delinq</th>\n",
       "      <th>tot_coll_amt</th>\n",
       "      <th>tot_cur_bal</th>\n",
       "      <th>total_rev_hi_lim</th>\n",
       "      <th>default_ind</th>\n",
       "    </tr>\n",
       "  </thead>\n",
       "  <tbody>\n",
       "    <tr>\n",
       "      <th>0</th>\n",
       "      <td>1077501</td>\n",
       "      <td>1296599</td>\n",
       "      <td>5000.0</td>\n",
       "      <td>5000.0</td>\n",
       "      <td>4975.0</td>\n",
       "      <td>36 months</td>\n",
       "      <td>10.65</td>\n",
       "      <td>162.87</td>\n",
       "      <td>B</td>\n",
       "      <td>B2</td>\n",
       "      <td>...</td>\n",
       "      <td>Jan-2015</td>\n",
       "      <td>171.62</td>\n",
       "      <td>Jan-2016</td>\n",
       "      <td>0.0</td>\n",
       "      <td>INDIVIDUAL</td>\n",
       "      <td>0.0</td>\n",
       "      <td>NaN</td>\n",
       "      <td>NaN</td>\n",
       "      <td>NaN</td>\n",
       "      <td>0</td>\n",
       "    </tr>\n",
       "  </tbody>\n",
       "</table>\n",
       "<p>1 rows × 48 columns</p>\n",
       "</div>"
      ],
      "text/plain": [
       "        id  member_id  loan_amnt  funded_amnt  funded_amnt_inv        term  \\\n",
       "0  1077501    1296599     5000.0       5000.0           4975.0   36 months   \n",
       "\n",
       "   int_rate  installment grade sub_grade  ... last_pymnt_d last_pymnt_amnt  \\\n",
       "0     10.65       162.87     B        B2  ...     Jan-2015          171.62   \n",
       "\n",
       "   last_credit_pull_d collections_12_mths_ex_med application_type  \\\n",
       "0            Jan-2016                        0.0       INDIVIDUAL   \n",
       "\n",
       "  acc_now_delinq tot_coll_amt tot_cur_bal total_rev_hi_lim  default_ind  \n",
       "0            0.0          NaN         NaN              NaN            0  \n",
       "\n",
       "[1 rows x 48 columns]"
      ]
     },
     "execution_count": 5,
     "metadata": {},
     "output_type": "execute_result"
    }
   ],
   "source": [
    "data.head(1)"
   ]
  },
  {
   "cell_type": "markdown",
   "id": "8f6ab426",
   "metadata": {},
   "source": [
    "# NA treatment"
   ]
  },
  {
   "cell_type": "code",
   "execution_count": 6,
   "id": "877f7979",
   "metadata": {},
   "outputs": [],
   "source": [
    "isna_values=[i for i in data.columns if data[i].isna().sum()>0]"
   ]
  },
  {
   "cell_type": "code",
   "execution_count": 7,
   "id": "8febebb9",
   "metadata": {},
   "outputs": [
    {
     "name": "stdout",
     "output_type": "stream",
     "text": [
      "Column :  emp_length\n",
      "percent na:  5.030672839787422 %  total na count :  43061\n",
      "Column :  revol_util\n",
      "percent na:  0.05210469070725692 %  total na count :  446\n",
      "Column :  last_pymnt_d\n",
      "percent na:  1.0353178678199795 %  total na count :  8862\n",
      "Column :  last_credit_pull_d\n",
      "percent na:  0.005841333038930148 %  total na count :  50\n",
      "Column :  collections_12_mths_ex_med\n",
      "percent na:  0.006542293003601766 %  total na count :  56\n",
      "Column :  tot_coll_amt\n",
      "percent na:  7.863953016990101 %  total na count :  67313\n",
      "Column :  tot_cur_bal\n",
      "percent na:  7.863953016990101 %  total na count :  67313\n",
      "Column :  total_rev_hi_lim\n",
      "percent na:  7.863953016990101 %  total na count :  67313\n"
     ]
    }
   ],
   "source": [
    "for i in isna_values:\n",
    "    print(\"Column : \",i)\n",
    "    print(\"percent na: \",data[i].isna().sum()*100/data.shape[0],\"%\",\" total na count : \",data[i].isna().sum())"
   ]
  },
  {
   "cell_type": "markdown",
   "id": "22efa4d9",
   "metadata": {},
   "source": [
    "Emp_Length Column"
   ]
  },
  {
   "cell_type": "code",
   "execution_count": 8,
   "id": "16ebb43a",
   "metadata": {},
   "outputs": [
    {
     "name": "stdout",
     "output_type": "stream",
     "text": [
      "object\n"
     ]
    }
   ],
   "source": [
    "print(data[\"emp_length\"].dtypes)"
   ]
  },
  {
   "cell_type": "code",
   "execution_count": 9,
   "id": "6a37cbb8",
   "metadata": {},
   "outputs": [
    {
     "name": "stdout",
     "output_type": "stream",
     "text": [
      "['10+ years' '< 1 year' '1 year' '3 years' '8 years' '9 years' '4 years'\n",
      " '5 years' '6 years' '2 years' '7 years' nan]\n"
     ]
    }
   ],
   "source": [
    "print(data[\"emp_length\"].unique())"
   ]
  },
  {
   "cell_type": "markdown",
   "id": "ebb3e104",
   "metadata": {},
   "source": [
    "Since the employment length is not given, we will assume the length to be less than 1 year. "
   ]
  },
  {
   "cell_type": "code",
   "execution_count": 10,
   "id": "f23d0d58",
   "metadata": {},
   "outputs": [],
   "source": [
    "data.loc[data.emp_length.isna()==True,\"emp_length\"]=\"< 1 year\""
   ]
  },
  {
   "cell_type": "markdown",
   "id": "6ccd47c5",
   "metadata": {},
   "source": [
    "Revol_Util : amount of credit the borrower is using relative to all available revolving credit."
   ]
  },
  {
   "cell_type": "code",
   "execution_count": 11,
   "id": "b9d6ce4a",
   "metadata": {},
   "outputs": [
    {
     "name": "stdout",
     "output_type": "stream",
     "text": [
      "Mean value of Revol Util : 55.019404504615196\n",
      "Median value of Revol Util :  55.9\n"
     ]
    }
   ],
   "source": [
    "print(\"Mean value of Revol Util :\",data[\"revol_util\"].mean())\n",
    "print(\"Median value of Revol Util : \",data[\"revol_util\"].median())"
   ]
  },
  {
   "cell_type": "markdown",
   "id": "d3b6c9e0",
   "metadata": {},
   "source": [
    "We will replace the NA values with the median."
   ]
  },
  {
   "cell_type": "code",
   "execution_count": 12,
   "id": "89e44c41",
   "metadata": {},
   "outputs": [],
   "source": [
    "data.loc[data.revol_util.isna()==True,\"revol_util\"]=data[\"revol_util\"].median()"
   ]
  },
  {
   "cell_type": "markdown",
   "id": "2dc508e2",
   "metadata": {},
   "source": [
    "last_pymnt_d Column"
   ]
  },
  {
   "cell_type": "code",
   "execution_count": 13,
   "id": "72e542df",
   "metadata": {},
   "outputs": [
    {
     "name": "stdout",
     "output_type": "stream",
     "text": [
      "0   2015-01-01\n",
      "1   2013-04-01\n",
      "2   2014-06-01\n",
      "Name: last_pymnt_d_m, dtype: datetime64[ns]\n",
      "0    Jan-2015\n",
      "1    Apr-2013\n",
      "2    Jun-2014\n",
      "Name: last_pymnt_d, dtype: object\n"
     ]
    }
   ],
   "source": [
    "data[\"last_pymnt_d_m\"]=pd.to_datetime(data[\"last_pymnt_d\"],format=\"%b-%Y\")\n",
    "print(data[\"last_pymnt_d_m\"][0:3])\n",
    "print(data[\"last_pymnt_d\"][0:3])"
   ]
  },
  {
   "cell_type": "markdown",
   "id": "861901b1",
   "metadata": {},
   "source": [
    "last_credit_pull_d Column  "
   ]
  },
  {
   "cell_type": "code",
   "execution_count": 14,
   "id": "7178b0f6",
   "metadata": {},
   "outputs": [],
   "source": [
    "data[\"last_credit_pull_d_m\"]=pd.to_datetime(data[\"last_credit_pull_d\"],format=\"%b-%Y\")"
   ]
  },
  {
   "cell_type": "code",
   "execution_count": 15,
   "id": "050f500e",
   "metadata": {},
   "outputs": [
    {
     "name": "stdout",
     "output_type": "stream",
     "text": [
      "0   2016-01-01\n",
      "1   2013-09-01\n",
      "2   2016-01-01\n",
      "Name: last_credit_pull_d_m, dtype: datetime64[ns]\n",
      "0    Jan-2016\n",
      "1    Sep-2013\n",
      "2    Jan-2016\n",
      "Name: last_credit_pull_d, dtype: object\n"
     ]
    }
   ],
   "source": [
    "print(data[\"last_credit_pull_d_m\"][0:3])\n",
    "print(data[\"last_credit_pull_d\"][0:3])"
   ]
  },
  {
   "cell_type": "markdown",
   "id": "d6f39a24",
   "metadata": {},
   "source": [
    "We will impute the na values for the date columns at the end"
   ]
  },
  {
   "cell_type": "markdown",
   "id": "18b05ef9",
   "metadata": {},
   "source": [
    "collections_12_mths_ex_med Column : Number of collections in 12 months excluding medical collections"
   ]
  },
  {
   "cell_type": "code",
   "execution_count": 16,
   "id": "e6b306b8",
   "metadata": {},
   "outputs": [
    {
     "data": {
      "text/plain": [
       "count    855913.000000\n",
       "mean          0.014230\n",
       "std           0.133712\n",
       "min           0.000000\n",
       "25%           0.000000\n",
       "50%           0.000000\n",
       "75%           0.000000\n",
       "max          20.000000\n",
       "Name: collections_12_mths_ex_med, dtype: float64"
      ]
     },
     "execution_count": 16,
     "metadata": {},
     "output_type": "execute_result"
    }
   ],
   "source": [
    "data[\"collections_12_mths_ex_med\"].describe()"
   ]
  },
  {
   "cell_type": "code",
   "execution_count": 17,
   "id": "65b83c41",
   "metadata": {},
   "outputs": [],
   "source": [
    "percentiles_col_12_mths_ex_med=np.nanpercentile(data[\"collections_12_mths_ex_med\"],[90,91,92,93,94,95,96,97,98,99])"
   ]
  },
  {
   "cell_type": "code",
   "execution_count": 18,
   "id": "0ad76959",
   "metadata": {},
   "outputs": [
    {
     "data": {
      "text/plain": [
       "array([0., 0., 0., 0., 0., 0., 0., 0., 0., 1.])"
      ]
     },
     "execution_count": 18,
     "metadata": {},
     "output_type": "execute_result"
    }
   ],
   "source": [
    "percentiles_col_12_mths_ex_med"
   ]
  },
  {
   "cell_type": "code",
   "execution_count": 19,
   "id": "7b7b8cd1",
   "metadata": {},
   "outputs": [],
   "source": [
    "percentiles_99_100_col_12mths_exmed=np.nanpercentile(data[\"collections_12_mths_ex_med\"],\n",
    "                                                     [99.1,99.2,99.3,99.4,99.5,99.6,99.7,99.8,99.9,99.95,99.99,100])"
   ]
  },
  {
   "cell_type": "code",
   "execution_count": 20,
   "id": "278e081a",
   "metadata": {},
   "outputs": [
    {
     "data": {
      "text/plain": [
       "array([ 1.,  1.,  1.,  1.,  1.,  1.,  1.,  1.,  1.,  2.,  3., 20.])"
      ]
     },
     "execution_count": 20,
     "metadata": {},
     "output_type": "execute_result"
    }
   ],
   "source": [
    "percentiles_99_100_col_12mths_exmed"
   ]
  },
  {
   "cell_type": "markdown",
   "id": "611e067e",
   "metadata": {},
   "source": [
    "Since the collections_12_mths_ex_med has values till 1 upto 99.9 percentile and it has value below 5 till 99.99 percentile\n",
    "and it shoots at 100th percentile to 20.\n",
    "Therefore we will take the median : 0 as we get collections =1 from 99th percentile"
   ]
  },
  {
   "cell_type": "code",
   "execution_count": 21,
   "id": "9b091f4f",
   "metadata": {},
   "outputs": [],
   "source": [
    "data.loc[data.collections_12_mths_ex_med.isna()==True,\"collections_12_mths_ex_med\"]=0"
   ]
  },
  {
   "cell_type": "markdown",
   "id": "bd638665",
   "metadata": {},
   "source": [
    "tot_coll_amt Column : Total collection amounts ever owed"
   ]
  },
  {
   "cell_type": "code",
   "execution_count": 22,
   "id": "54a49f6c",
   "metadata": {},
   "outputs": [
    {
     "data": {
      "text/plain": [
       "count    7.886560e+05\n",
       "mean     2.254129e+02\n",
       "std      1.048945e+04\n",
       "min      0.000000e+00\n",
       "25%      0.000000e+00\n",
       "50%      0.000000e+00\n",
       "75%      0.000000e+00\n",
       "max      9.152545e+06\n",
       "Name: tot_coll_amt, dtype: float64"
      ]
     },
     "execution_count": 22,
     "metadata": {},
     "output_type": "execute_result"
    }
   ],
   "source": [
    "data.tot_coll_amt.describe()"
   ]
  },
  {
   "cell_type": "code",
   "execution_count": 23,
   "id": "aa0bae23",
   "metadata": {},
   "outputs": [
    {
     "name": "stdout",
     "output_type": "stream",
     "text": [
      "[   0.    0.   68.  158.  208.  273.  356.  471.  630.  866. 1268. 2093.\n",
      " 4583.]\n"
     ]
    }
   ],
   "source": [
    "perc_tot_coll_amt_80_99=np.nanpercentile(data[\"tot_coll_amt\"],[80,85,87,90,91,92,93,94,95,96,97,98,99])\n",
    "print(perc_tot_coll_amt_80_99)"
   ]
  },
  {
   "cell_type": "code",
   "execution_count": 24,
   "id": "1dc376bc",
   "metadata": {},
   "outputs": [],
   "source": [
    "perc_tot_coll_amt_99_100=np.nanpercentile(data[\"tot_coll_amt\"],\n",
    "                                  [99.1,99.2,99.3,99.4,99.5,99.6,99.7,99.8,99.9,99.95,99.99,100])"
   ]
  },
  {
   "cell_type": "code",
   "execution_count": 25,
   "id": "f4dd2466",
   "metadata": {},
   "outputs": [
    {
     "name": "stdout",
     "output_type": "stream",
     "text": [
      "[5.09600000e+03 5.75276000e+03 6.51300000e+03 7.56100000e+03\n",
      " 8.79300000e+03 1.05573800e+04 1.29210000e+04 1.66412100e+04\n",
      " 2.37249350e+04 3.26125900e+04 6.34902565e+04 9.15254500e+06]\n"
     ]
    }
   ],
   "source": [
    "print(perc_tot_coll_amt_99_100)"
   ]
  },
  {
   "cell_type": "markdown",
   "id": "6bbbdc0a",
   "metadata": {},
   "source": [
    "Since from above percentiles it is clear that till 85 percentile the values are zero and they shoot after 85th percentile.\n",
    "Therefore as major data lies in the 0 range we will impute zero value in this column for na."
   ]
  },
  {
   "cell_type": "code",
   "execution_count": 26,
   "id": "561fe012",
   "metadata": {},
   "outputs": [],
   "source": [
    "data.loc[data.tot_coll_amt.isna()==True,\"tot_coll_amt\"]=0"
   ]
  },
  {
   "cell_type": "markdown",
   "id": "4d19cf57",
   "metadata": {},
   "source": [
    "tot_cur_bal Column : Total current balance of all accounts"
   ]
  },
  {
   "cell_type": "code",
   "execution_count": 27,
   "id": "6c6bf5f6",
   "metadata": {},
   "outputs": [
    {
     "data": {
      "text/plain": [
       "count    7.886560e+05\n",
       "mean     1.397662e+05\n",
       "std      1.539385e+05\n",
       "min      0.000000e+00\n",
       "25%      2.987000e+04\n",
       "50%      8.100850e+04\n",
       "75%      2.087032e+05\n",
       "max      8.000078e+06\n",
       "Name: tot_cur_bal, dtype: float64"
      ]
     },
     "execution_count": 27,
     "metadata": {},
     "output_type": "execute_result"
    }
   ],
   "source": [
    "data.tot_cur_bal.describe()"
   ]
  },
  {
   "cell_type": "code",
   "execution_count": 28,
   "id": "10bfc200",
   "metadata": {},
   "outputs": [
    {
     "name": "stdout",
     "output_type": "stream",
     "text": [
      "[ 35704.    42585.    51384.    63525.75  81008.5  104271.25 130423.\n",
      " 180972.  ]\n"
     ]
    }
   ],
   "source": [
    "perc_tot_cur_bal_30_70=np.nanpercentile(data[\"tot_cur_bal\"],[30,35,40,45,50,55,60,70])\n",
    "print(perc_tot_cur_bal_30_70)"
   ]
  },
  {
   "cell_type": "code",
   "execution_count": 29,
   "id": "b54b9cd1",
   "metadata": {},
   "outputs": [
    {
     "data": {
      "text/plain": [
       "<AxesSubplot:ylabel='Density'>"
      ]
     },
     "execution_count": 29,
     "metadata": {},
     "output_type": "execute_result"
    },
    {
     "data": {
      "image/png": "[encoded data removed]",
      "text/plain": [
       "<Figure size 432x288 with 1 Axes>"
      ]
     },
     "metadata": {
      "needs_background": "light"
     },
     "output_type": "display_data"
    }
   ],
   "source": [
    "sns.distplot(x=data[\"tot_cur_bal\"])"
   ]
  },
  {
   "cell_type": "markdown",
   "id": "b83c8399",
   "metadata": {},
   "source": [
    "From above percentiles and distribution it is clear that the data is skewed for this column. So we will impute using the median as 50 percent of data lies below 80k and 50percent above it."
   ]
  },
  {
   "cell_type": "code",
   "execution_count": 30,
   "id": "e0240f3f",
   "metadata": {},
   "outputs": [],
   "source": [
    "med_tot_cur_bal=data.tot_cur_bal.median()\n",
    "data.loc[data.tot_cur_bal.isna()==True,\"tot_cur_bal\"]=med_tot_cur_bal"
   ]
  },
  {
   "cell_type": "markdown",
   "id": "d7afe5d3",
   "metadata": {},
   "source": [
    "total_rev_hi_lim Column : Total revolving high credit/credit limit"
   ]
  },
  {
   "cell_type": "code",
   "execution_count": 31,
   "id": "7bb76f75",
   "metadata": {},
   "outputs": [
    {
     "data": {
      "text/plain": [
       "count    7.886560e+05\n",
       "mean     3.216357e+04\n",
       "std      3.769964e+04\n",
       "min      0.000000e+00\n",
       "25%      1.400000e+04\n",
       "50%      2.380000e+04\n",
       "75%      3.990000e+04\n",
       "max      9.999999e+06\n",
       "Name: total_rev_hi_lim, dtype: float64"
      ]
     },
     "execution_count": 31,
     "metadata": {},
     "output_type": "execute_result"
    }
   ],
   "source": [
    "data.total_rev_hi_lim.describe()"
   ]
  },
  {
   "cell_type": "code",
   "execution_count": 32,
   "id": "830b928a",
   "metadata": {},
   "outputs": [
    {
     "data": {
      "text/plain": [
       "<AxesSubplot:ylabel='Density'>"
      ]
     },
     "execution_count": 32,
     "metadata": {},
     "output_type": "execute_result"
    },
    {
     "data": {
      "image/png": "[encoded data removed]",
      "text/plain": [
       "<Figure size 432x288 with 1 Axes>"
      ]
     },
     "metadata": {
      "needs_background": "light"
     },
     "output_type": "display_data"
    }
   ],
   "source": [
    "sns.distplot(x=data.total_rev_hi_lim)"
   ]
  },
  {
   "cell_type": "code",
   "execution_count": 33,
   "id": "88b1e6c6",
   "metadata": {},
   "outputs": [
    {
     "name": "stdout",
     "output_type": "stream",
     "text": [
      "[ 39900.          45200.          52100.          62600.\n",
      "  83100.         151800.         195500.         232500.\n",
      " 268796.28       331934.50000001 652845.59999965]\n"
     ]
    }
   ],
   "source": [
    "perc_tot_rev_hi_lim_75_95=np.nanpercentile(data[\"total_rev_hi_lim\"],[75,80,85,90,95,99,99.5,99.7,99.8,99.9,99.99])\n",
    "print(perc_tot_rev_hi_lim_75_95)"
   ]
  },
  {
   "cell_type": "markdown",
   "id": "bc2b66c9",
   "metadata": {},
   "source": [
    "As we observe that the data is skewed. Also the amount is below 2 lac till 99.5th percentile and it shoots to 3.3 after 99.8 percentile to more than 6lac at 99.99th percentile. Therefore we will use the median instead to impute the value"
   ]
  },
  {
   "cell_type": "code",
   "execution_count": 34,
   "id": "6b761570",
   "metadata": {},
   "outputs": [],
   "source": [
    "med_tot_rev_hi_lim=data[\"total_rev_hi_lim\"].median()\n",
    "data.loc[data.total_rev_hi_lim.isna()==True,\"total_rev_hi_lim\"]=med_tot_rev_hi_lim"
   ]
  },
  {
   "cell_type": "markdown",
   "id": "09b9e937",
   "metadata": {},
   "source": [
    "# Check for duplicates"
   ]
  },
  {
   "cell_type": "code",
   "execution_count": 35,
   "id": "5bacf317",
   "metadata": {},
   "outputs": [],
   "source": [
    "dup_count=data.duplicated().sum()"
   ]
  },
  {
   "cell_type": "code",
   "execution_count": 36,
   "id": "608d3bce",
   "metadata": {},
   "outputs": [
    {
     "data": {
      "text/plain": [
       "0"
      ]
     },
     "execution_count": 36,
     "metadata": {},
     "output_type": "execute_result"
    }
   ],
   "source": [
    "dup_count"
   ]
  },
  {
   "cell_type": "code",
   "execution_count": 37,
   "id": "a71fe9f8",
   "metadata": {},
   "outputs": [],
   "source": [
    "data.to_csv(\"na_treated_data.csv\")"
   ]
  }
 ],
 "metadata": {
  "kernelspec": {
   "display_name": "Python 3",
   "language": "python",
   "name": "python3"
  },
  "language_info": {
   "codemirror_mode": {
    "name": "ipython",
    "version": 3
   },
   "file_extension": ".py",
   "mimetype": "text/x-python",
   "name": "python",
   "nbconvert_exporter": "python",
   "pygments_lexer": "ipython3",
   "version": "3.8.8"
  }
 },
 "nbformat": 4,
 "nbformat_minor": 5
}
